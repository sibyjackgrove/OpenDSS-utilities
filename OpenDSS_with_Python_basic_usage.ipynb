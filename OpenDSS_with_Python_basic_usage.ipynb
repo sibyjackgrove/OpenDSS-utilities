{
 "cells": [
  {
   "cell_type": "markdown",
   "metadata": {},
   "source": [
    "## Import the necessary classes"
   ]
  },
  {
   "cell_type": "code",
   "execution_count": 1,
   "metadata": {},
   "outputs": [],
   "source": [
    "from OpenDSS_utilities import DSS\n",
    "import math"
   ]
  },
  {
   "cell_type": "markdown",
   "metadata": {},
   "source": [
    "## Start OpenDSS engine"
   ]
  },
  {
   "cell_type": "code",
   "execution_count": 2,
   "metadata": {},
   "outputs": [
    {
     "name": "stdout",
     "output_type": "stream",
     "text": [
      "OpenDSS engine started.\n"
     ]
    }
   ],
   "source": [
    "dss_model = r'C:\\Users\\splathottam\\Documents\\GitHub\\OpenDSS-utilities\\Master.dss'\n",
    "dss1 = DSS(dss_model)"
   ]
  },
  {
   "cell_type": "markdown",
   "metadata": {},
   "source": [
    "## Compile the .dss file"
   ]
  },
  {
   "cell_type": "code",
   "execution_count": 3,
   "metadata": {},
   "outputs": [],
   "source": [
    "dss1.compile_DSS()\n"
   ]
  },
  {
   "cell_type": "markdown",
   "metadata": {},
   "source": [
    "## Solve the Power Flow and create results file"
   ]
  },
  {
   "cell_type": "code",
   "execution_count": 4,
   "metadata": {},
   "outputs": [],
   "source": [
    "dss1.solve_DSS_snapshot()\n",
    "dss1.create_results_power()"
   ]
  },
  {
   "cell_type": "code",
   "execution_count": 5,
   "metadata": {},
   "outputs": [],
   "source": [
    "dss1.create_results_voltage()"
   ]
  },
  {
   "cell_type": "markdown",
   "metadata": {},
   "source": [
    "## Show circuit element information"
   ]
  },
  {
   "cell_type": "code",
   "execution_count": 6,
   "metadata": {},
   "outputs": [
    {
     "name": "stdout",
     "output_type": "stream",
     "text": [
      "Power output for dss_test:P:25.4753459627,Q:18.0425247875\n"
     ]
    }
   ],
   "source": [
    "P, Q = dss1.get_circuit_power()\n",
    "print('Power output for {}:P:{},Q:{}'.format(dss1.get_circuit_name(),P,Q))"
   ]
  },
  {
   "cell_type": "markdown",
   "metadata": {},
   "source": [
    "## Chosen bus and element information"
   ]
  },
  {
   "cell_type": "code",
   "execution_count": 7,
   "metadata": {},
   "outputs": [
    {
     "name": "stdout",
     "output_type": "stream",
     "text": [
      "Active bus:c\n",
      "Distance to EnergyMeter:0.2\n",
      "Bus base voltage(kV):0.22\n",
      "Bus voltage(kV):(121.81713324171392, -2.259615684244286, 122.72863812183823, -122.17940746923053, 123.04922497662984, 117.60204986718693)\n",
      "Active element:Line.line1\n",
      "This element is connected between the buses:b and c\n",
      "Nodal voltages of this element (kV):(126.61713787328543, -0.24088017951175164, 126.61985841281165, -120.23928090743244, 126.61857412854562, 119.7618456060385, 121.81713324171392, -2.259615684244286, 122.72863812183823, -122.17940746923053, 123.04922497662984, 117.60204986718693)\n",
      "Powers of this element (kW) and (kvar):(8.525806522645922, 3.9923741394415426, 8.469237388141043, 3.9517841572096604, 8.430711198271336, 3.9732335767075204, -8.332812284166662, -3.549706355818682, -8.333936012177368, -3.550242577109672, -8.332746717756994, -3.549730235531191)\n"
     ]
    }
   ],
   "source": [
    "dss1.show_bus_info(\"C\")\n",
    "dss1.show_element_info(element_name=\"Line.Line1\")"
   ]
  },
  {
   "cell_type": "markdown",
   "metadata": {},
   "source": [
    "## Change length of chosen line"
   ]
  },
  {
   "cell_type": "code",
   "execution_count": 8,
   "metadata": {},
   "outputs": [
    {
     "name": "stdout",
     "output_type": "stream",
     "text": [
      "Changing length of line:Line.line1\n",
      "Name of active line:line1\n",
      "Current length of active line:0.2 km\n",
      "Changing line to 0.4 km\n",
      "New length of line:0.4 km\n"
     ]
    }
   ],
   "source": [
    "dss1.change_line_length(line_name=\"Line.Line1\",length=0.4)"
   ]
  },
  {
   "cell_type": "markdown",
   "metadata": {},
   "source": [
    "## Create a transformer at specified bus"
   ]
  },
  {
   "cell_type": "code",
   "execution_count": 9,
   "metadata": {},
   "outputs": [
    {
     "name": "stdout",
     "output_type": "stream",
     "text": [
      "Transformer Transformer.test created at bus B!\n"
     ]
    },
    {
     "data": {
      "text/plain": [
       "u'b_tfr'"
      ]
     },
     "execution_count": 9,
     "metadata": {},
     "output_type": "execute_result"
    }
   ],
   "source": [
    "dss1.create_transformer(transformer_name='test',bus_name='B',winding1_voltage=0.22,winding2_voltage=0.12)"
   ]
  },
  {
   "cell_type": "markdown",
   "metadata": {},
   "source": [
    "## Show transformer details"
   ]
  },
  {
   "cell_type": "code",
   "execution_count": 10,
   "metadata": {},
   "outputs": [
    {
     "name": "stdout",
     "output_type": "stream",
     "text": [
      "Active element:Transformer.transformer\n",
      "Name of active Transformer:Transformer.transformer\n",
      "Bus connected to primary winding:a\n",
      "Rated voltage at primary winding:13.8 kV\n",
      "Rated power at primary winding:300 kVA\n",
      "Bus connected to secondary winding:b\n",
      "Rated voltage at secondary winding:0.22 kV\n",
      "Rated power at secondary winding:300 kVA\n"
     ]
    }
   ],
   "source": [
    "dss1.show_transformer_info(transformer_name='Transformer.Transformer')"
   ]
  },
  {
   "cell_type": "code",
   "execution_count": 11,
   "metadata": {},
   "outputs": [
    {
     "name": "stdout",
     "output_type": "stream",
     "text": [
      "Active element:Transformer.test\n",
      "Name of active Transformer:Transformer.test\n",
      "Bus connected to primary winding:b\n",
      "Rated voltage at primary winding:0.22 kV\n",
      "Rated power at primary winding:1000 kVA\n",
      "Bus connected to secondary winding:b_tfr\n",
      "Rated voltage at secondary winding:0.12 kV\n",
      "Rated power at secondary winding:1000 kVA\n"
     ]
    }
   ],
   "source": [
    "dss1.show_transformer_info(transformer_name='Transformer.test')"
   ]
  },
  {
   "cell_type": "markdown",
   "metadata": {},
   "source": [
    "## Show all lines and transformers"
   ]
  },
  {
   "cell_type": "code",
   "execution_count": 12,
   "metadata": {},
   "outputs": [
    {
     "name": "stdout",
     "output_type": "stream",
     "text": [
      "Names of lines:[u'line1', u'line2']\n",
      "Length of lines:[0.4, 0.15]\n",
      "Names of transformers:[u'Transformer.transformer', u'Transformer.test']\n"
     ]
    }
   ],
   "source": [
    "dss1.show_all_lines()\n",
    "dss1.show_all_transformers()"
   ]
  }
 ],
 "metadata": {
  "kernelspec": {
   "display_name": "Python 2",
   "language": "python",
   "name": "python2"
  },
  "language_info": {
   "codemirror_mode": {
    "name": "ipython",
    "version": 2
   },
   "file_extension": ".py",
   "mimetype": "text/x-python",
   "name": "python",
   "nbconvert_exporter": "python",
   "pygments_lexer": "ipython2",
   "version": "2.7.16"
  }
 },
 "nbformat": 4,
 "nbformat_minor": 2
}
